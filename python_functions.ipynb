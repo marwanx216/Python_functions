{
 "cells": [
  {
   "cell_type": "code",
   "execution_count": 1,
   "id": "7c7b3165",
   "metadata": {},
   "outputs": [
    {
     "name": "stdout",
     "output_type": "stream",
     "text": [
      "35  is the largest number\n"
     ]
    }
   ],
   "source": [
    "# Question 1 ~ 1st method\n",
    "\n",
    "# The function \"max_num\" checks which number among the three is the largest\n",
    "# and returns it \n",
    "def max_num(a, b, c):\n",
    "    if a>b and a>c:\n",
    "        return a\n",
    "    elif b>c and b>a:\n",
    "       return b\n",
    "    elif c>a and c>b:\n",
    "        return c\n",
    "    else:\n",
    "        pass\n",
    "    \n",
    "# Print the largest number\n",
    "\n",
    "print(max_num(20, 35, 19), \" is the largest number\")"
   ]
  },
  {
   "cell_type": "code",
   "execution_count": 2,
   "id": "e0c7228f",
   "metadata": {},
   "outputs": [
    {
     "name": "stdout",
     "output_type": "stream",
     "text": [
      "35  is the largest number!\n"
     ]
    }
   ],
   "source": [
    "# Question 1 ~ 1st method \n",
    "\n",
    "# The function \"max_num\" checks which number in the list is the largest\n",
    "def max_num(a, b, c):\n",
    "    list = [a, b, c]\n",
    "    return max(list)\n",
    "\n",
    "# Print the largest number\n",
    "\n",
    "print(max_num(20, 35, 19),\" is the largest number!\")\n"
   ]
  },
  {
   "cell_type": "code",
   "execution_count": 3,
   "id": "b84c4dc8",
   "metadata": {},
   "outputs": [
    {
     "name": "stdout",
     "output_type": "stream",
     "text": [
      "(50, 30)\n"
     ]
    }
   ],
   "source": [
    "# Question 2\n",
    "\n",
    "# The \"calculation\" function calculates the addition and subtraction between two variables\n",
    "\n",
    "def calculation(num1, num2):\n",
    "    addition = num1 + num2\n",
    "    subtraction = num1 - num2\n",
    "    # Returns both results in a single return call\n",
    "    return addition, subtraction\n",
    "\n",
    "# Print the results\n",
    "print(calculation(40, 10))"
   ]
  },
  {
   "cell_type": "code",
   "execution_count": 4,
   "id": "bdf136f3",
   "metadata": {},
   "outputs": [
    {
     "name": "stdout",
     "output_type": "stream",
     "text": [
      "15\n",
      "120\n",
      "The sum of the even elements:  9\n",
      "The product of the odd elements:  8\n"
     ]
    }
   ],
   "source": [
    "# Question 3\n",
    "\n",
    "# Random list\n",
    "my_list = [1, 2, 3, 4, 5]\n",
    "\n",
    "# The function sums the elements of a list of integers\n",
    "def sum_elements(my_list):\n",
    "    total = 0\n",
    "    for i in range(len(my_list)):\n",
    "        total += my_list[i]\n",
    "    return total\n",
    "\n",
    "print(sum_elements(my_list))\n",
    "\n",
    "# The function multiplies the elements of an integer list\n",
    "def multiply_elements(my_list):\n",
    "    product = 1\n",
    "    for i in range(len(my_list)):\n",
    "        product *= my_list[i]\n",
    "    return product\n",
    "\n",
    "print(multiply_elements(my_list))\n",
    "\n",
    "#Extract two list from the first list\n",
    "even_list = []\n",
    "odd_list = []\n",
    "\n",
    "for i in range(len(my_list)):\n",
    "    if i%2 == 0:\n",
    "      even_list.append(my_list[i])\n",
    "    elif i%2 ==1:\n",
    "        odd_list.append(my_list[i])\n",
    "\n",
    "print(\"The sum of the even elements: \", sum_elements(even_list))\n",
    "print(\"The product of the odd elements: \", multiply_elements(odd_list))\n",
    "\n"
   ]
  },
  {
   "cell_type": "code",
   "execution_count": null,
   "id": "5bc21c59",
   "metadata": {},
   "outputs": [],
   "source": [
    "# Question 4\n",
    "\n",
    "#Sample string \n",
    "my_str = 'green-red-yellow-black-white'\n",
    "\n",
    "# Split the hyphen-separated strings into a list of strings using the split()\n",
    "new_str = my_str.split('-')\n",
    "\n",
    "new_str.sort()\n",
    "\n",
    "result = '-'.join(new_str)\n",
    "\n",
    "print(result)"
   ]
  },
  {
   "cell_type": "code",
   "execution_count": 6,
   "id": "0268788d",
   "metadata": {},
   "outputs": [
    {
     "name": "stdout",
     "output_type": "stream",
     "text": [
      "Enter D's values in a comma-seperated sequence: 100,150,180\n",
      "18,22,24\n"
     ]
    }
   ],
   "source": [
    "# Question 5\n",
    "\n",
    "import math\n",
    "\n",
    "# The function calculates the value of the formula:\n",
    "#Q = square root of [(2 * C * D)/H]\n",
    "def bonus_function(dlist):\n",
    "    C = 50\n",
    "    H = 30\n",
    "    qlist = []\n",
    "    for i in range(len(dlist)):\n",
    "        Q = math.sqrt((2 * C * dlist[i])/H)\n",
    "        qlist.append(Q)\n",
    "    return qlist\n",
    "\n",
    "# Accept the variable D's values from the user in comma-separeted sequence\n",
    "D = input(\"Enter D's values in a comma-seperated sequence: \")\n",
    "dlist = D.split(',')\n",
    "# Convert the entered list from string type into integer one\n",
    "int_list = [int(i) for i in dlist]\n",
    "\n",
    "result = bonus_function(int_list)\n",
    "\n",
    "# Convert the results from float to int to get whole numbers\n",
    "last_list = [int(item) for item in result]\n",
    "\n",
    "# Print the results in a comma-separeted sequence\n",
    "print(','.join(map(str,last_list)))\n"
   ]
  }
 ],
 "metadata": {
  "kernelspec": {
   "display_name": "Python 3 (ipykernel)",
   "language": "python",
   "name": "python3"
  },
  "language_info": {
   "codemirror_mode": {
    "name": "ipython",
    "version": 3
   },
   "file_extension": ".py",
   "mimetype": "text/x-python",
   "name": "python",
   "nbconvert_exporter": "python",
   "pygments_lexer": "ipython3",
   "version": "3.9.12"
  }
 },
 "nbformat": 4,
 "nbformat_minor": 5
}
